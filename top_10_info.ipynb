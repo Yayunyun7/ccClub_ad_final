{
 "cells": [
  {
   "cell_type": "code",
   "execution_count": 2,
   "metadata": {},
   "outputs": [
    {
     "name": "stderr",
     "output_type": "stream",
     "text": [
      "<ipython-input-2-519786799fbd>:14: DeprecationWarning: executable_path has been deprecated, please pass in a Service object\n",
      "  driver = webdriver.Chrome(path, options = my_options)\n"
     ]
    },
    {
     "name": "stdout",
     "output_type": "stream",
     "text": [
      "1 長榮(2603)\n",
      "2 開發金(2883)\n",
      "3 泰詠(6266)\n",
      "4 加權指數(TWA00)\n",
      "5 富邦金(2881)\n",
      "6 友達(2409)\n",
      "7 國泰金(2882)\n",
      "8 陽明(2609)\n",
      "9 鴻海(2317)\n",
      "10 高端疫苗(6547)\n",
      "1 長榮(2603)\n",
      "股價: 134, 漲跌幅: -2.5(-1.83%), 本益比: 4.1, 產業: 傳產-航運\n",
      "2 開發金(2883)\n",
      "股價: 18.25, 漲跌幅: 0.9(5.19%), 本益比: 10.1, 產業: 金融-金控\n",
      "3 泰詠(6266)\n",
      "股價: 34.75, 漲跌幅: -3.75(-9.74%), 本益比: 26.8, 產業: 電子上游-PCB-材料設備\n",
      "4 加權指數(TWA00)\n",
      "股價: 18,288.21, 漲跌幅: 48.83(0.27%), 本益比: 15.2\n",
      "5 富邦金(2881)\n",
      "股價: 79.9, 漲跌幅: 3.5(4.58%), 本益比: 6.9, 產業: 金融-金控\n",
      "6 友達(2409)\n",
      "股價: 22.85, 漲跌幅: 0.35(1.56%), 本益比: 3.7, 產業: 電子中游-LCD-TFT面板\n",
      "7 國泰金(2882)\n",
      "股價: 64.5, 漲跌幅: 2.4(3.86%), 本益比: 7.1, 產業: 金融-金控\n",
      "8 陽明(2609)\n",
      "股價: 112, 漲跌幅: 0.5(0.45%), 本益比: 3.3, 產業: 傳產-航運\n",
      "9 鴻海(2317)\n",
      "股價: 104.5, 漲跌幅: 0(0%), 本益比: 10.3, 產業: 電子中游-EMS\n",
      "10 高端疫苗(6547)\n",
      "股價: 282.5, 漲跌幅: 1.5(0.53%), 本益比: 381.0, 產業: 傳產-生技\n"
     ]
    }
   ],
   "source": [
    "#爬top10\n",
    "import re\n",
    "import requests\n",
    "from bs4 import BeautifulSoup\n",
    "import time\n",
    "from selenium.webdriver.common.by import By\n",
    "from selenium import webdriver\n",
    "from selenium.webdriver.chrome.options import Options \n",
    "my_options = Options() \n",
    "my_options.add_argument(\"--headless\")\n",
    "my_options.add_argument(\"--start-maximized\") \n",
    "my_options.add_argument(\"--incognito\")\n",
    "path = \"/Applications/chromedriver 5\"\n",
    "driver = webdriver.Chrome(path, options = my_options)\n",
    "\n",
    "\n",
    "url = requests.get(\"https://www.cmoney.tw/forum/popular/stock\")\n",
    "soup = BeautifulSoup(url.text, \"html.parser\")\n",
    "tops = soup.find_all(\"h3\", {\"class\": 'headline__title'})\n",
    "top_n = []\n",
    "stocks =[]\n",
    "for i in range(0,10):\n",
    "    top_stock = tops[i].text.strip()\n",
    "    num = re.sub(\"[^0-9]\", \"\", top_stock)\n",
    "    top_n.append(num)\n",
    "    stocks.append(top_stock)\n",
    "    print(i+1, top_stock)\n",
    "\n",
    "    ## 我目前這邊確定可印出前十名, 下面我差不多，但因為我request太多次被對方伺服器擋住了, 你可以試看看．．．\n",
    "\n",
    "#top 10 資訊(cl:產業, 股價, 漲跌幅, 本益比)\n",
    "\n",
    "    \n",
    "def get_info(url2):\n",
    "    top_url = requests.get(url2)\n",
    "    soup2 = BeautifulSoup(top_url.text, \"html.parser\")\n",
    "    try:\n",
    "        cl = soup2.find(\"a\", {\"class\": \"link link-danger stockData__value\"}).text.strip()\n",
    "    except:\n",
    "        cl = None\n",
    "    ##\n",
    "    driver.get(url2)\n",
    "    item = driver.find_elements(By.XPATH, \".//*[@class = 'textQuote']//span\")\n",
    "    xx = [i.text for i in item]\n",
    "    yy = [i.text for i in driver.find_elements(By.XPATH, \".//*[@class= 'textMoney__text text-white-700']\")]\n",
    "    print(f\"股價: {xx[0]}, 漲跌幅: {xx[1]}({xx[2]}), 本益比: {yy[2]}, 產業: {cl}\")\n",
    "\n",
    "for i in range(0, 10):\n",
    "    url1 = \"https://www.cmoney.tw/forum/stock/\"\n",
    "    url2 = url1 + top_n[i]\n",
    "    print(i+1, stocks[i])\n",
    "    try:\n",
    "        get_info(url2)\n",
    "    except:\n",
    "        driver.get(\"https://www.cmoney.tw/forum/market\")\n",
    "        item = driver.find_elements(By.XPATH, \".//*[@class = 'textQuote']//span\")\n",
    "        xx = [i.text for i in item]\n",
    "        yy = [i.text for i in driver.find_elements(By.XPATH, \".//*[@class= 'textMoney__text text-white-700']\")]\n",
    "        print(f\"股價: {xx[0]}, 漲跌幅: {xx[1]}({xx[2]}), 本益比: {yy[1]}\")"
   ]
  },
  {
   "cell_type": "code",
   "execution_count": null,
   "metadata": {},
   "outputs": [],
   "source": []
  }
 ],
 "metadata": {
  "kernelspec": {
   "display_name": "Python 3",
   "language": "python",
   "name": "python3"
  },
  "language_info": {
   "codemirror_mode": {
    "name": "ipython",
    "version": 3
   },
   "file_extension": ".py",
   "mimetype": "text/x-python",
   "name": "python",
   "nbconvert_exporter": "python",
   "pygments_lexer": "ipython3",
   "version": "3.8.4"
  }
 },
 "nbformat": 4,
 "nbformat_minor": 4
}
