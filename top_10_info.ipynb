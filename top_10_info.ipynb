{
 "cells": [
  {
   "cell_type": "code",
   "execution_count": null,
   "metadata": {},
   "outputs": [],
   "source": [
    "#爬top10\n",
    "import re\n",
    "import requests\n",
    "from bs4 import BeautifulSoup\n",
    "import time\n",
    "\n",
    "url = requests.get(\"https://www.cmoney.tw/forum/popular/stock\")\n",
    "soup = BeautifulSoup(url.text, \"html.parser\")\n",
    "tops = soup.find_all(\"h3\", {\"class\": 'headline__title'})\n",
    "top_n = []\n",
    "stocks =[]\n",
    "for i in range(0,10):\n",
    "    top_stock = tops[i].text.strip()\n",
    "    num = re.sub(\"[^0-9]\", \"\", top_stock)\n",
    "    top_n.append(num)\n",
    "    stocks.append(top_stock)\n",
    "    print(i+1, top_stock)\n",
    "\n",
    "    ## 我目前這邊確定可印出前十名, 下面我差不多，但因為我request太多次被對方伺服器擋住了, 你可以試看看．．．\n",
    "\n",
    "#top 10 資訊(cl:產業, 股價, 漲跌幅, 本益比)\n",
    "\n",
    "    \n",
    "def get_info(url2):\n",
    "    top_url = requests.get(url2)\n",
    "    soup2 = BeautifulSoup(top_url.text, \"html.parser\")\n",
    "    try:\n",
    "        cl = soup2.find(\"a\", {\"class\": \"link link-danger stockData__value\"}).text.strip()\n",
    "    except:\n",
    "        cl = None\n",
    "    ##\n",
    "    driver.get(url2)\n",
    "    item = driver.find_elements(By.XPATH, \".//*[@class = 'textQuote']//span\")\n",
    "    xx = [i.text for i in item]\n",
    "    yy = [i.text for i in driver.find_elements(By.XPATH, \".//*[@class= 'textMoney__text text-white-700']\")]\n",
    "    print(f\"股價: {xx[0]}, 漲跌幅: {xx[1]}({xx[2]}), 本益比: {yy[2]}, 產業: {cl}\")\n",
    "\n",
    "for i in range(0, 10):\n",
    "    url1 = \"https://www.cmoney.tw/forum/stock/\"\n",
    "    url2 = url1 + top_n[i]\n",
    "    print(i+1, stocks[i])\n",
    "    try:\n",
    "        get_info(url2)\n",
    "    except:\n",
    "        driver.get(\"https://www.cmoney.tw/forum/market\")\n",
    "        item = driver.find_elements(By.XPATH, \".//*[@class = 'textQuote']//span\")\n",
    "        xx = [i.text for i in item]\n",
    "        yy = [i.text for i in driver.find_elements(By.XPATH, \".//*[@class= 'textMoney__text text-white-700']\")]\n",
    "        print(f\"股價: {xx[0]}, 漲跌幅: {xx[1]}({xx[2]}), 本益比: {yy[1]}\")"
   ]
  }
 ],
 "metadata": {
  "kernelspec": {
   "display_name": "Python 3",
   "language": "python",
   "name": "python3"
  },
  "language_info": {
   "codemirror_mode": {
    "name": "ipython",
    "version": 3
   },
   "file_extension": ".py",
   "mimetype": "text/x-python",
   "name": "python",
   "nbconvert_exporter": "python",
   "pygments_lexer": "ipython3",
   "version": "3.8.4"
  }
 },
 "nbformat": 4,
 "nbformat_minor": 4
}
