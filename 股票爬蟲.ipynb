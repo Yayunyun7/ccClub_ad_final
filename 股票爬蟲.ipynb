{
 "cells": [
  {
   "cell_type": "code",
   "execution_count": 1,
   "metadata": {},
   "outputs": [
    {
     "name": "stderr",
     "output_type": "stream",
     "text": [
      "<ipython-input-1-ed5bc36d8c96>:10: DeprecationWarning: executable_path has been deprecated, please pass in a Service object\n",
      "  driver = webdriver.Chrome(path, options = my_options)\n"
     ]
    },
    {
     "ename": "NameError",
     "evalue": "name 'requests' is not defined",
     "output_type": "error",
     "traceback": [
      "\u001b[0;31m---------------------------------------------------------------------------\u001b[0m",
      "\u001b[0;31mNameError\u001b[0m                                 Traceback (most recent call last)",
      "\u001b[0;32m<ipython-input-1-ed5bc36d8c96>\u001b[0m in \u001b[0;36m<module>\u001b[0;34m\u001b[0m\n\u001b[1;32m     21\u001b[0m \u001b[0;34m\u001b[0m\u001b[0m\n\u001b[1;32m     22\u001b[0m \u001b[0;31m# get first name and stock list\u001b[0m\u001b[0;34m\u001b[0m\u001b[0;34m\u001b[0m\u001b[0;34m\u001b[0m\u001b[0m\n\u001b[0;32m---> 23\u001b[0;31m \u001b[0mre\u001b[0m \u001b[0;34m=\u001b[0m \u001b[0mrequests\u001b[0m\u001b[0;34m.\u001b[0m\u001b[0mget\u001b[0m\u001b[0;34m(\u001b[0m\u001b[0;34m\"https://www.cmoney.tw/forum/popular/buzz\"\u001b[0m\u001b[0;34m,\u001b[0m \u001b[0mcookies\u001b[0m \u001b[0;34m=\u001b[0m \u001b[0mcookies\u001b[0m\u001b[0;34m)\u001b[0m\u001b[0;34m\u001b[0m\u001b[0;34m\u001b[0m\u001b[0m\n\u001b[0m\u001b[1;32m     24\u001b[0m \u001b[0msoup\u001b[0m \u001b[0;34m=\u001b[0m \u001b[0mBeautifulSoup\u001b[0m\u001b[0;34m(\u001b[0m\u001b[0mre\u001b[0m\u001b[0;34m.\u001b[0m\u001b[0mtext\u001b[0m\u001b[0;34m,\u001b[0m \u001b[0;34m\"html.parser\"\u001b[0m\u001b[0;34m)\u001b[0m\u001b[0;34m\u001b[0m\u001b[0;34m\u001b[0m\u001b[0m\n\u001b[1;32m     25\u001b[0m \u001b[0mtag\u001b[0m \u001b[0;34m=\u001b[0m \u001b[0msoup\u001b[0m\u001b[0;34m.\u001b[0m\u001b[0mfind_all\u001b[0m\u001b[0;34m(\u001b[0m\u001b[0;34m\"div\"\u001b[0m\u001b[0;34m,\u001b[0m \u001b[0;34m{\u001b[0m\u001b[0;34m\"class\"\u001b[0m \u001b[0;34m:\u001b[0m \u001b[0;34m\"articleTags\"\u001b[0m\u001b[0;34m}\u001b[0m\u001b[0;34m)\u001b[0m\u001b[0;34m\u001b[0m\u001b[0;34m\u001b[0m\u001b[0m\n",
      "\u001b[0;31mNameError\u001b[0m: name 'requests' is not defined"
     ]
    }
   ],
   "source": [
    "#爬熱門文章一篇***\n",
    "from selenium.webdriver.common.by import By\n",
    "from selenium import webdriver\n",
    "from selenium.webdriver.chrome.options import Options \n",
    "my_options = Options() \n",
    "my_options.add_argument(\"--headless\")\n",
    "my_options.add_argument(\"--start-maximized\") \n",
    "my_options.add_argument(\"--incognito\")\n",
    "path = \"/Applications/chromedriver 5\"\n",
    "driver = webdriver.Chrome(path, options = my_options)\n",
    "\n",
    "# get content\n",
    "cookies = {\"platform\": \"pc\"}\n",
    "driver.get(\"https://www.cmoney.tw/forum/popular/buzz\")\n",
    "x = driver.find_element(By.XPATH, \"//div[@class = 'announcement__close']\")\n",
    "x.click()\n",
    "sp = driver.find_elements(By.XPATH, \"//article[@class = 'articleContent']\")\n",
    "txt = sp[0].find_element(By.XPATH, \"//div[@class = 'textRule__text text-white-800']\")\n",
    "b = txt.find_element(By.XPATH, \".//span\").text \n",
    "\n",
    "    \n",
    "# get first name and stock list\n",
    "re = requests.get(\"https://www.cmoney.tw/forum/popular/buzz\", cookies = cookies)\n",
    "soup = BeautifulSoup(re.text, \"html.parser\")\n",
    "tag = soup.find_all(\"div\", {\"class\" : \"articleTags\"})\n",
    "stock = tag[0].find_all(\"div\", {\"class\":'articleTags__text text-white-800'})\n",
    "name = soup.find(\"div\", {\"class\":\"member__name text-white-800\"})\n",
    "\n",
    "print(name.text.strip())\n",
    "print(\" \".join([i.text.strip() for i in stock]))\n",
    "print(b)\n"
   ]
  },
  {
   "cell_type": "code",
   "execution_count": null,
   "metadata": {},
   "outputs": [],
   "source": []
  }
 ],
 "metadata": {
  "kernelspec": {
   "display_name": "Python 3",
   "language": "python",
   "name": "python3"
  },
  "language_info": {
   "codemirror_mode": {
    "name": "ipython",
    "version": 3
   },
   "file_extension": ".py",
   "mimetype": "text/x-python",
   "name": "python",
   "nbconvert_exporter": "python",
   "pygments_lexer": "ipython3",
   "version": "3.8.4"
  }
 },
 "nbformat": 4,
 "nbformat_minor": 4
}
